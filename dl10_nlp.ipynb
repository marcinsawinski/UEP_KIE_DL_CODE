{
 "cells": [
  {
   "attachments": {},
   "cell_type": "markdown",
   "metadata": {},
   "source": [
    "# Deep Learning\n",
    "<table align=\"left\">\n",
    "  <td>\n",
    "    <a href=\"https://colab.research.google.com/github/marcinsawinski/UEP_KIE_DL_CODE/blob/main/dl10_nlp.ipynb\" target=\"_parent\"><img src=\"https://colab.research.google.com/assets/colab-badge.svg\" alt=\"Open In Colab\"/></a>\n",
    "  </td>\n",
    "</table>"
   ]
  },
  {
   "attachments": {},
   "cell_type": "markdown",
   "metadata": {},
   "source": [
    "Tasks:\n",
    "1. Generate Shakespearean Text Using a Stateless Character RNN\n",
    " - _download the Shakespeare data from Andrej Karpathy's [char-rnn project](https://github.com/karpathy/char-rnn/) using tf.keras.utils.get_file()_\n",
    " - _perform Text Vectorization using split=\"character\" and standardize=\"lower\"_\n",
    " - _split sequence into a dataset of windows to train a sequence-to-sequence RNN_\n",
    " - _split into training, validation and test sets e.g. 0.9, 0.05, 0.05_\n",
    " - _create RNN with Embedding layer, GRU layer with 128 units and Dense layer with softmax activation_\n",
    " - _train a character-level RNN to predict the next character in a sequence_\n",
    " - _wrap the model in a new model with added Vectorization Layer and predict text_\n",
    "\n",
    " 2. Generate Shakespearean Text Using a Stateful Character RNN\n",
    " 3. Perform Sentiment Analysis on imdb_reviews dataset\n",
    " - _download the imdb_reviews dataset using tfds.load(name=\"imdb_reviews\")_\n",
    " - _perform word-level Text Vectorization using max_tokens=1000_\n",
    " - _split sequence into a dataset of windows to train a sequence-to-sequence RNN_\n",
    " - _split into training, validation and test sets e.g. 0.9, 0.05, 0.05_\n",
    " - _create RNN with Embedding layer, GRU layer with 128 units and Dense layer with sigmoid activation_\n",
    " - _train a character-level RNN to predict the next character in a sequence_\n",
    " - _add masking_\n",
    " 4. Perform Sentiment Analysis on imdb_reviews dataset using Pretrained Embeddings and Language Models\n",
    " - use google/universal-sentence-encoder_\n",
    "\n",
    "Use https://colab.research.google.com/github/ageron/handson-ml3/blob/main/16_nlp_with_rnns_and_attention.ipynb as a reference.\n",
    "\n",
    "\n",
    "\n"
   ]
  },
  {
   "cell_type": "code",
   "execution_count": null,
   "metadata": {},
   "outputs": [],
   "source": [
    "\n"
   ]
  }
 ],
 "metadata": {
  "language_info": {
   "name": "python"
  },
  "orig_nbformat": 4
 },
 "nbformat": 4,
 "nbformat_minor": 2
}
