{
 "cells": [
  {
   "attachments": {},
   "cell_type": "markdown",
   "metadata": {},
   "source": [
    "# Deep Learning\n",
    "<table align=\"left\">\n",
    "  <td>\n",
    "    <a href=\"https://colab.research.google.com/github/marcinsawinski/UEP_KIE_DL_CODE/blob/main/dl06_transfer.ipynb\" target=\"_parent\"><img src=\"https://colab.research.google.com/assets/colab-badge.svg\" alt=\"Open In Colab\"/></a>\n",
    "  </td>\n",
    "</table>"
   ]
  },
  {
   "attachments": {},
   "cell_type": "markdown",
   "metadata": {},
   "source": [
    "__Try transfer learning to reuse pre-trained models to improve accuracy / reduce time of traning__\n",
    "\n",
    "Get dataset from kaggle: multiclass-weather-dataset\n",
    "\n",
    "Check the models you can leverage\n",
    "\n",
    "\n",
    "https://www.tensorflow.org/api_docs/python/tf/keras/applications\n",
    "\n",
    "https://keras.io/api/applications/#usage-examples-for-image-classification-models\n",
    "\n",
    "https://keras.io/guides/transfer_learning/\n",
    "\n",
    "https://arxiv.org/abs/1905.11946\n",
    "\n",
    "You can review a tutorial notebook\n",
    "https://www.kaggle.com/code/ahmedtronic/weather-conditions-classification-acc-97/notebook\n"
   ]
  },
  {
   "cell_type": "code",
   "execution_count": null,
   "metadata": {
    "vscode": {
     "languageId": "plaintext"
    }
   },
   "outputs": [],
   "source": []
  }
 ],
 "metadata": {
  "kernelspec": {
   "display_name": "hml3",
   "language": "python",
   "name": "python3"
  },
  "language_info": {
   "codemirror_mode": {
    "name": "ipython",
    "version": 3
   },
   "file_extension": ".py",
   "mimetype": "text/x-python",
   "name": "python",
   "nbconvert_exporter": "python",
   "pygments_lexer": "ipython3",
   "version": "3.9.13"
  },
  "orig_nbformat": 4
 },
 "nbformat": 4,
 "nbformat_minor": 2
}
