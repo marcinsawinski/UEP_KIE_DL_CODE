{
 "cells": [
  {
   "attachments": {},
   "cell_type": "markdown",
   "metadata": {},
   "source": [
    "# Excercise 3: Tensorflow TensorBoard\n",
    "<table align=\"left\">\n",
    "  <td>\n",
    "    <a href=\"https://colab.research.google.com/github/marcinsawinski/UEP_KIE_DL_CODE/blob/main/dl03_training.ipynb\" target=\"_parent\"><img src=\"https://colab.research.google.com/assets/colab-badge.svg\" alt=\"Open In Colab\"/></a>\n",
    "  </td>\n",
    "</table>"
   ]
  },
  {
   "attachments": {},
   "cell_type": "markdown",
   "metadata": {},
   "source": [
    "Train a deep MLP on the Fashion MNIST dataset.\n",
    "- Define tensorflow model with 2 hidden layers (300,100), fit it and score\n",
    "- Try searching for the optimal learning rate by growing the learning rate exponentially, plotting the loss, and finding the point where the loss shoots up. \n",
    "- Try adding all extra features — save checkpoints, use early stopping, and plot learning curves using TensorBoard.\n",
    "- Experiment with 3-layer Neural Networks (NN-3), a 6-layer (NN-6) and a 12-layer Neural Network (NN-12)\n",
    "- Experiment with activation functions, initialisations and optimizers\n",
    "- Add batch normalization and drop out\n",
    "- Analyse output in Tensorboard\n",
    "\n",
    "Check https://keras.io/api/"
   ]
  },
  {
   "cell_type": "markdown",
   "metadata": {},
   "source": [
    "- When using COLAB to run notebook use TPU machine ( MENU->RUNTIME->CHANGE  RUNTIME TYPE)"
   ]
  },
  {
   "cell_type": "code",
   "execution_count": null,
   "metadata": {},
   "outputs": [],
   "source": []
  },
  {
   "attachments": {},
   "cell_type": "markdown",
   "metadata": {},
   "source": [
    "Loadthe fashion MNIST dataset from `keras.datasets`. The dataset is already split  between a training set and a test set, but it can be useful to split the training set further to have a validation set."
   ]
  },
  {
   "cell_type": "code",
   "execution_count": null,
   "metadata": {},
   "outputs": [],
   "source": [
    "import tensorflow as tf\n",
    "from tensorflow import keras\n",
    "\n",
    "fashion_mnist = keras.datasets.fashion_mnist\n",
    "class_names = [\n",
    "    \"T-shirt/top\",\n",
    "    \"Trouser\",\n",
    "    \"Pullover\",\n",
    "    \"Dress\",\n",
    "    \"Coat\",\n",
    "    \"Sandal\",\n",
    "    \"Shirt\",\n",
    "    \"Sneaker\",\n",
    "    \"Bag\",\n",
    "    \"Ankle boot\",\n",
    "]\n",
    "\n",
    "(X_train_full, y_train_full), (X_test, y_test) = fashion_mnist.load_data()"
   ]
  },
  {
   "cell_type": "code",
   "execution_count": null,
   "metadata": {},
   "outputs": [],
   "source": [
    "# CODE HINTS\n",
    "\n",
    "# example  hyperparameters values\n",
    "learning_rate = 0.01\n",
    "dropout_rate = 0.2\n",
    "patience = 10\n",
    "\n",
    "# define the tensorboard callback\n",
    "ts = datetime.datetime.now().strftime(\"%Y%m%d-%H%M%S\")\n",
    "logdir = os.path.join(\n",
    "    \"logs\", f\"fashion_mnist_lr{learning_rate}_do{dropout_rate}_p{patience}{ts}\"\n",
    ")\n",
    "tensorboard_cb = tf.keras.callbacks.TensorBoard(logdir, profile_batch=(100, 200))\n",
    "\n",
    "# define the early stopping callback\n",
    "early_stopping_cb = tf.keras.callbacks.EarlyStopping(\n",
    "    patience=patience, restore_best_weights=True\n",
    ")\n",
    "\n",
    "# define the optimizer\n",
    "opt = tf.keras.optimizers.Adam(learning_rate=learning_rate)\n",
    "\n",
    "# make a copy of the model so you can use it multiple times\n",
    "model = tf.keras.models.clone_model(model_base)\n",
    "\n",
    "# compile the model\n",
    "model.compile(\n",
    "    loss=\"sparse_categorical_crossentropy\", optimizer=opt, metrics=[\"accuracy\"]\n",
    ")"
   ]
  },
  {
   "cell_type": "code",
   "execution_count": 2,
   "metadata": {},
   "outputs": [],
   "source": [
    "%load_ext tensorboard"
   ]
  },
  {
   "cell_type": "code",
   "execution_count": 4,
   "metadata": {},
   "outputs": [
    {
     "data": {
      "text/html": [
       "\n",
       "      <iframe id=\"tensorboard-frame-5fa889c47712d0c4\" width=\"100%\" height=\"800\" frameborder=\"0\">\n",
       "      </iframe>\n",
       "      <script>\n",
       "        (function() {\n",
       "          const frame = document.getElementById(\"tensorboard-frame-5fa889c47712d0c4\");\n",
       "          const url = new URL(\"http://localhost\");\n",
       "          const port = 6006;\n",
       "          if (port) {\n",
       "            url.port = port;\n",
       "          }\n",
       "          frame.src = url;\n",
       "        })();\n",
       "      </script>\n",
       "    "
      ],
      "text/plain": [
       "<IPython.core.display.HTML object>"
      ]
     },
     "metadata": {},
     "output_type": "display_data"
    }
   ],
   "source": [
    "%tensorboard --logdir logs"
   ]
  }
 ],
 "metadata": {
  "kernelspec": {
   "display_name": "hml3",
   "language": "python",
   "name": "python3"
  },
  "language_info": {
   "codemirror_mode": {
    "name": "ipython",
    "version": 3
   },
   "file_extension": ".py",
   "mimetype": "text/x-python",
   "name": "python",
   "nbconvert_exporter": "python",
   "pygments_lexer": "ipython3",
   "version": "3.10.8"
  },
  "orig_nbformat": 4,
  "vscode": {
   "interpreter": {
    "hash": "ac2598a53cd48ed973662853cbed9ce85601c819c2e7e5e54efa32ca245c1cee"
   }
  }
 },
 "nbformat": 4,
 "nbformat_minor": 2
}
