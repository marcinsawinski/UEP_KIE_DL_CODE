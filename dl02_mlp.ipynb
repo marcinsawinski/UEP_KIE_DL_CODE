{
 "cells": [
  {
   "attachments": {},
   "cell_type": "markdown",
   "metadata": {},
   "source": [
    "# Excercise 2: Multilayer Perceptron\n",
    "<table align=\"left\">\n",
    "  <td>\n",
    "    <a href=\"https://colab.research.google.com/github/marcinsawinski/UEP_KIE_DL_CODE/blob/main/dl02_mlp.ipynb\" target=\"_parent\"><img src=\"https://colab.research.google.com/assets/colab-badge.svg\" alt=\"Open In Colab\"/></a>\n",
    "  </td>\n",
    "</table>"
   ]
  },
  {
   "attachments": {},
   "cell_type": "markdown",
   "metadata": {},
   "source": [
    "TASKS:\n",
    "- Get mnist data set.\n",
    "- Prepare test, valid, train sets\n",
    "- Create KNeighborsClassifier, fit model, tune hyperparamters and score using sklearn\n",
    "- Create Tensorflow NN model with 1 hidden layer, fit it and score"
   ]
  },
  {
   "cell_type": "markdown",
   "metadata": {},
   "source": [
    "# Getting datasets\n",
    "```\n",
    "from sklearn.datasets import fetch_openml\n",
    "mnist = fetch_openml('mnist_784', as_frame=False)\n",
    "```\n",
    "Inspect mnist object with ```mnist.keys()```: attribute ```data``` will be X, attribute ```target``` will be y.\n"
   ]
  },
  {
   "cell_type": "code",
   "execution_count": null,
   "metadata": {},
   "outputs": [],
   "source": [
    "#place for your code "
   ]
  },
  {
   "cell_type": "markdown",
   "metadata": {},
   "source": [
    "# Prepare test, valid, train sets\n",
    "Modules to be used:\n",
    "```\n",
    "from sklearn.model_selection import train_test_split\n",
    "```"
   ]
  },
  {
   "cell_type": "code",
   "execution_count": null,
   "metadata": {},
   "outputs": [],
   "source": [
    "#place for your code "
   ]
  },
  {
   "cell_type": "markdown",
   "metadata": {},
   "source": [
    "# Create KNeighborsClassifier, fit it and score using sklearn\n",
    "Modules to be used:\n",
    "\n",
    "```\n",
    "from sklearn.neighbors import KNeighborsClassifier\n",
    "from sklearn.model_selection import GridSearchCV\n",
    "```\n",
    "use ```score``` method to get baseline accuracy e.g. ```classifier_model.score(X_test, y_test)```"
   ]
  },
  {
   "cell_type": "code",
   "execution_count": null,
   "metadata": {},
   "outputs": [],
   "source": [
    "#place for your code "
   ]
  },
  {
   "cell_type": "markdown",
   "metadata": {},
   "source": [
    "# Create Tensorflow NN model with 1 hidden layer, fit it and score\n",
    "Modules to be used:\n",
    "```import tensorflow as tf```\n",
    "\n",
    "Processing steps:\n",
    " - reshape data into 2D images \n",
    "```X.reshape(70000,28,28,1)```\n",
    " - normalize X\n",
    " - convert y to integers (```y.astype(np.uint8)```)\n",
    " - split data into train, valid, test with 5/7 1/7, 1/7 ratio\n",
    "\n",
    "Define a sequential model with:\n",
    "- 1 flattening layer that converts 2d images 28x28 into a vector\n",
    "- 3 dense layers:\n",
    "    - first with relu activation and 100 neurons(units)\n",
    "    - second with relu activation and 50 neurons(units)\n",
    "    - third with softmax activation and 10 neurons(units)\n",
    "\n",
    "```\n",
    "model = tf.keras.Sequential([\n",
    "    tf.keras.layers.Flatten(input_shape=[28, 28]),\n",
    "    tf.keras.layers.Dense(300, activation=\"relu\"),\n",
    "    tf.keras.layers.Dense(100, activation=\"relu\"),\n",
    "    tf.keras.layers.Dense(10, activation=\"softmax\")\n",
    "])\n",
    "```\n",
    "Compile model with ```sparse_categorical_crossentropy``` as loss function, ```nadam``` optimizer and ```accuracy``` metric.\n",
    "\n",
    "```\n",
    "model.compile(loss=\"sparse_categorical_crossentropy\", optimizer=\"nadam\",\n",
    "              metrics=[\"accuracy\"])\n",
    "```\n",
    "\n",
    "Display summary with ``` model.summary() ``` and ``` tf.keras.utils.plot_model(model, show_shapes=True) ```method.\n",
    "\n",
    "Fit model with 10 epochs, batch size 32, validation data\n",
    "```\n",
    "model.fit(X_train, y_train, epochs=10, batch_size = 32, validation_data=(X_valid, y_valid))\n",
    "```\n",
    "\n",
    "Score the model with ``` model.evaluate(X_test, y_test)```\n",
    "\n",
    "**Experiment with other model architectures and hyperparameters. Find optimal NN.**\n"
   ]
  },
  {
   "cell_type": "code",
   "execution_count": null,
   "metadata": {},
   "outputs": [],
   "source": [
    "#place for your code "
   ]
  }
 ],
 "metadata": {
  "kernelspec": {
   "display_name": "hml3",
   "language": "python",
   "name": "python3"
  },
  "language_info": {
   "codemirror_mode": {
    "name": "ipython",
    "version": 3
   },
   "file_extension": ".py",
   "mimetype": "text/x-python",
   "name": "python",
   "nbconvert_exporter": "python",
   "pygments_lexer": "ipython3",
   "version": "3.10.13"
  },
  "orig_nbformat": 4,
  "vscode": {
   "interpreter": {
    "hash": "ac2598a53cd48ed973662853cbed9ce85601c819c2e7e5e54efa32ca245c1cee"
   }
  }
 },
 "nbformat": 4,
 "nbformat_minor": 2
}
