{
 "cells": [
  {
   "cell_type": "markdown",
   "metadata": {},
   "source": [
    "# Deep Learning\n",
    "<table align=\"left\">\n",
    "  <td>\n",
    "    <a href=\"https://colab.research.google.com/github/marcinsawinski/UEP_KIE_DL_CODE/blob/main/dl03_training_solution.ipynb\" target=\"_parent\"><img src=\"https://colab.research.google.com/assets/colab-badge.svg\" alt=\"Open In Colab\"/></a>\n",
    "  </td>\n",
    "</table>"
   ]
  },
  {
   "attachments": {},
   "cell_type": "markdown",
   "metadata": {},
   "source": [
    "# Exercise 4\n",
    "\n",
    "Build churn prediction model using data from:\n",
    "https://www.kaggle.com/datasets/blastchar/telco-customer-churn/\n",
    "\n",
    "- Read data into Pandas dataframe\n",
    "- Drop customerID\n",
    "- Change all data to numeric\n",
    "- Standardize values\n",
    "- Split into train/validation/test\n",
    "- Define callback objects (TensorBoard and EarlyStopping)\n",
    "- Define Sequential model and compile \n",
    "- Fit model and check progress with TensorBoard\n",
    "- Evaluate model (ConfusionMatrixDisplay)"
   ]
  },
  {
   "cell_type": "code",
   "execution_count": null,
   "metadata": {
    "vscode": {
     "languageId": "plaintext"
    }
   },
   "outputs": [],
   "source": [
    "# CODE HINTS\n",
    "# change to numeric\n",
    "df['TotalCharges'] = pd.to_numeric(df['TotalCharges'], errors='coerce')\n",
    "\n",
    "# change to binary\n",
    "map_dict = {'No': 0, 'No phone service':0, 'No internet service':0, 'Yes': 1, 'Male': 1, 'Female': 0}\n",
    "df = df.applymap(lambda x: map_dict.get(x) if x in map_dict else x)\n",
    "\n",
    "# change to One Hot\n",
    "cat_cols = ['InternetService','Contract','PaymentMethod' ]\n",
    "df =  pd.get_dummies(df, columns=cat_cols)"
   ]
  },
  {
   "cell_type": "code",
   "execution_count": null,
   "metadata": {
    "vscode": {
     "languageId": "plaintext"
    }
   },
   "outputs": [],
   "source": []
  }
 ],
 "metadata": {
  "kernelspec": {
   "display_name": "hml3",
   "language": "python",
   "name": "python3"
  },
  "language_info": {
   "codemirror_mode": {
    "name": "ipython",
    "version": 3
   },
   "file_extension": ".py",
   "mimetype": "text/x-python",
   "name": "python",
   "nbconvert_exporter": "python",
   "pygments_lexer": "ipython3",
   "version": "3.10.8"
  },
  "orig_nbformat": 4,
  "vscode": {
   "interpreter": {
    "hash": "ac2598a53cd48ed973662853cbed9ce85601c819c2e7e5e54efa32ca245c1cee"
   }
  }
 },
 "nbformat": 4,
 "nbformat_minor": 2
}
