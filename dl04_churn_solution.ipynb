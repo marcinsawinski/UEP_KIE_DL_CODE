{
 "cells": [
  {
   "cell_type": "markdown",
   "metadata": {},
   "source": [
    "# Deep Learning\n",
    "<table align=\"left\">\n",
    "  <td>\n",
    "    <a href=\"https://colab.research.google.com/github/marcinsawinski/UEP_KIE_DL_CODE/blob/main/dl03_training_solution.ipynb\" target=\"_parent\"><img src=\"https://colab.research.google.com/assets/colab-badge.svg\" alt=\"Open In Colab\"/></a>\n",
    "  </td>\n",
    "</table>"
   ]
  },
  {
   "attachments": {},
   "cell_type": "markdown",
   "metadata": {},
   "source": [
    "# Exercise 4\n",
    "\n",
    "Build churn prediction model usin data from:\n",
    "https://www.kaggle.com/datasets/blastchar/telco-customer-churn/\n",
    "\n",
    "copy of data avialable: data/churn.csv\n"
   ]
  },
  {
   "cell_type": "code",
   "execution_count": 1,
   "metadata": {},
   "outputs": [],
   "source": [
    "import matplotlib.pyplot as plt\n",
    "import pandas as pd\n",
    "import tensorflow as tf\n",
    "import os, datetime\n",
    "import numpy as np\n",
    "# from sklearn.pipeline import make_pipeline, Pipeline\n",
    "from sklearn.model_selection import train_test_split\n",
    "from sklearn.preprocessing import StandardScaler\n",
    "from sklearn.metrics import ConfusionMatrixDisplay, classification_report   \n",
    "from sklearn.metrics import confusion_matrix\n",
    "import matplotlib.pyplot as plt\n",
    "%load_ext tensorboard"
   ]
  },
  {
   "cell_type": "code",
   "execution_count": 2,
   "metadata": {},
   "outputs": [],
   "source": [
    "df = pd.read_csv('data/churn.csv')\n",
    "df.drop(columns=['customerID'], inplace=True)\n",
    "df['TotalCharges'] = pd.to_numeric(df['TotalCharges'], errors='coerce')\n",
    "df.dropna(inplace=True)\n",
    "map_dict = {'No': 0, 'No phone service':0, 'No internet service':0, 'Yes': 1, 'Male': 1, 'Female': 0}\n",
    "df = df.applymap(lambda x: map_dict.get(x) if x in map_dict else x)\n",
    "cat_cols = ['InternetService','Contract','PaymentMethod' ]\n",
    "df =  pd.get_dummies(df, columns=cat_cols)\n",
    "X = df.drop(columns=['Churn'])\n",
    "y = df['Churn']\n",
    "scaler = StandardScaler()\n",
    "X = scaler.fit_transform(X)"
   ]
  },
  {
   "cell_type": "code",
   "execution_count": 3,
   "metadata": {},
   "outputs": [
    {
     "data": {
      "text/plain": [
       "(7032, 26)"
      ]
     },
     "execution_count": 3,
     "metadata": {},
     "output_type": "execute_result"
    }
   ],
   "source": [
    "m,n = X.shape\n",
    "m,n"
   ]
  },
  {
   "cell_type": "code",
   "execution_count": 4,
   "metadata": {},
   "outputs": [],
   "source": [
    "X_train, X_test, y_train, y_test = train_test_split(X, y, test_size=1/7, random_state=42)\n",
    "X_train, X_val, y_train, y_val = train_test_split(X_train, y_train, test_size=1/7, random_state=42)"
   ]
  },
  {
   "cell_type": "code",
   "execution_count": 5,
   "metadata": {},
   "outputs": [
    {
     "name": "stderr",
     "output_type": "stream",
     "text": [
      "2023-03-20 23:57:20.317378: I tensorflow/core/profiler/lib/profiler_session.cc:101] Profiler session initializing.\n",
      "2023-03-20 23:57:20.317393: I tensorflow/core/profiler/lib/profiler_session.cc:116] Profiler session started.\n",
      "2023-03-20 23:57:20.317726: I tensorflow/core/profiler/lib/profiler_session.cc:128] Profiler session tear down.\n"
     ]
    }
   ],
   "source": [
    "logdir = os.path.join(\"logs\", \"churn\"+datetime.datetime.now().strftime(\"%Y%m%d-%H%M%S\"))\n",
    "\n",
    "tensorboard_cb = tf.keras.callbacks.TensorBoard(logdir,\n",
    "                                                profile_batch=(100, 200))\n",
    "early_stopping_cb = tf.keras.callbacks.EarlyStopping(patience=10,\n",
    "                                                    # start_from_epoch=10,\n",
    "                                                     restore_best_weights=True)\n"
   ]
  },
  {
   "cell_type": "code",
   "execution_count": 6,
   "metadata": {},
   "outputs": [
    {
     "name": "stderr",
     "output_type": "stream",
     "text": [
      "2023-03-20 23:57:20.346254: I tensorflow/core/common_runtime/pluggable_device/pluggable_device_factory.cc:306] Could not identify NUMA node of platform GPU ID 0, defaulting to 0. Your kernel may not have been built with NUMA support.\n",
      "2023-03-20 23:57:20.347007: I tensorflow/core/common_runtime/pluggable_device/pluggable_device_factory.cc:272] Created TensorFlow device (/job:localhost/replica:0/task:0/device:GPU:0 with 0 MB memory) -> physical PluggableDevice (device: 0, name: METAL, pci bus id: <undefined>)\n"
     ]
    },
    {
     "name": "stdout",
     "output_type": "stream",
     "text": [
      "Metal device set to: Apple M1 Pro\n",
      "\n",
      "systemMemory: 16.00 GB\n",
      "maxCacheSize: 5.33 GB\n",
      "\n",
      "Model: \"sequential\"\n",
      "_________________________________________________________________\n",
      " Layer (type)                Output Shape              Param #   \n",
      "=================================================================\n",
      " dense (Dense)               (None, 26)                702       \n",
      "                                                                 \n",
      " dense_1 (Dense)             (None, 52)                1404      \n",
      "                                                                 \n",
      " dense_2 (Dense)             (None, 52)                2756      \n",
      "                                                                 \n",
      " dense_3 (Dense)             (None, 1)                 53        \n",
      "                                                                 \n",
      "=================================================================\n",
      "Total params: 4,915\n",
      "Trainable params: 4,915\n",
      "Non-trainable params: 0\n",
      "_________________________________________________________________\n"
     ]
    }
   ],
   "source": [
    "import tensorflow as tf\n",
    "from tensorflow import keras\n",
    "\n",
    "\n",
    "model = tf.keras.Sequential(\n",
    "    [\n",
    "    tf.keras.layers.Dense(n, input_shape=(n,), activation=\"relu\"),\n",
    "    tf.keras.layers.Dense(n*2, activation=\"relu\"),\n",
    "    tf.keras.layers.Dense(n*2, activation=\"relu\"),\n",
    "    tf.keras.layers.Dense(1, activation=\"sigmoid\"),\n",
    "    ]\n",
    "    )\n",
    "\n",
    "model.compile(optimizer='adam',\n",
    "              loss='binary_crossentropy',\n",
    "              metrics=['accuracy'],\n",
    "              )\n",
    "model.summary()\n"
   ]
  },
  {
   "cell_type": "code",
   "execution_count": 7,
   "metadata": {},
   "outputs": [
    {
     "name": "stdout",
     "output_type": "stream",
     "text": [
      "Epoch 1/100\n"
     ]
    },
    {
     "name": "stderr",
     "output_type": "stream",
     "text": [
      "2023-03-20 23:57:20.674574: W tensorflow/core/platform/profile_utils/cpu_utils.cc:128] Failed to get CPU frequency: 0 Hz\n",
      "2023-03-20 23:57:20.979230: I tensorflow/core/grappler/optimizers/custom_graph_optimizer_registry.cc:114] Plugin optimizer for device_type GPU is enabled.\n"
     ]
    },
    {
     "name": "stdout",
     "output_type": "stream",
     "text": [
      "120/162 [=====================>........] - ETA: 0s - loss: 0.4656 - accuracy: 0.7732"
     ]
    },
    {
     "name": "stderr",
     "output_type": "stream",
     "text": [
      "2023-03-20 23:57:22.893583: I tensorflow/core/profiler/lib/profiler_session.cc:101] Profiler session initializing.\n",
      "2023-03-20 23:57:22.893602: I tensorflow/core/profiler/lib/profiler_session.cc:116] Profiler session started.\n"
     ]
    },
    {
     "name": "stdout",
     "output_type": "stream",
     "text": [
      "162/162 [==============================] - ETA: 0s - loss: 0.4597 - accuracy: 0.7727"
     ]
    },
    {
     "name": "stderr",
     "output_type": "stream",
     "text": [
      "2023-03-20 23:57:24.025609: I tensorflow/core/grappler/optimizers/custom_graph_optimizer_registry.cc:114] Plugin optimizer for device_type GPU is enabled.\n"
     ]
    },
    {
     "name": "stdout",
     "output_type": "stream",
     "text": [
      "162/162 [==============================] - 4s 14ms/step - loss: 0.4597 - accuracy: 0.7727 - val_loss: 0.4172 - val_accuracy: 0.8049\n",
      "Epoch 2/100\n",
      " 44/162 [=======>......................] - ETA: 1s - loss: 0.4123 - accuracy: 0.8089"
     ]
    },
    {
     "name": "stderr",
     "output_type": "stream",
     "text": [
      "2023-03-20 23:57:24.811930: I tensorflow/core/profiler/lib/profiler_session.cc:67] Profiler session collecting data.\n",
      "2023-03-20 23:57:24.840497: I tensorflow/core/profiler/lib/profiler_session.cc:128] Profiler session tear down.\n",
      "2023-03-20 23:57:24.864158: I tensorflow/core/profiler/rpc/client/save_profile.cc:136] Creating directory: logs/churn20230320-235720/plugins/profile/2023_03_20_23_57_24\n",
      "\n",
      "2023-03-20 23:57:24.885371: I tensorflow/core/profiler/rpc/client/save_profile.cc:142] Dumped gzipped tool data for trace.json.gz to logs/churn20230320-235720/plugins/profile/2023_03_20_23_57_24/192.168.1.5.trace.json.gz\n",
      "2023-03-20 23:57:24.914527: I tensorflow/core/profiler/rpc/client/save_profile.cc:136] Creating directory: logs/churn20230320-235720/plugins/profile/2023_03_20_23_57_24\n",
      "\n",
      "2023-03-20 23:57:24.917526: I tensorflow/core/profiler/rpc/client/save_profile.cc:142] Dumped gzipped tool data for memory_profile.json.gz to logs/churn20230320-235720/plugins/profile/2023_03_20_23_57_24/192.168.1.5.memory_profile.json.gz\n",
      "2023-03-20 23:57:24.919816: I tensorflow/core/profiler/rpc/client/capture_profile.cc:251] Creating directory: logs/churn20230320-235720/plugins/profile/2023_03_20_23_57_24\n",
      "Dumped tool data for xplane.pb to logs/churn20230320-235720/plugins/profile/2023_03_20_23_57_24/192.168.1.5.xplane.pb\n",
      "Dumped tool data for overview_page.pb to logs/churn20230320-235720/plugins/profile/2023_03_20_23_57_24/192.168.1.5.overview_page.pb\n",
      "Dumped tool data for input_pipeline.pb to logs/churn20230320-235720/plugins/profile/2023_03_20_23_57_24/192.168.1.5.input_pipeline.pb\n",
      "Dumped tool data for tensorflow_stats.pb to logs/churn20230320-235720/plugins/profile/2023_03_20_23_57_24/192.168.1.5.tensorflow_stats.pb\n",
      "Dumped tool data for kernel_stats.pb to logs/churn20230320-235720/plugins/profile/2023_03_20_23_57_24/192.168.1.5.kernel_stats.pb\n",
      "\n"
     ]
    },
    {
     "name": "stdout",
     "output_type": "stream",
     "text": [
      "162/162 [==============================] - 2s 11ms/step - loss: 0.4249 - accuracy: 0.7977 - val_loss: 0.4067 - val_accuracy: 0.8095\n",
      "Epoch 3/100\n",
      "162/162 [==============================] - 1s 9ms/step - loss: 0.4151 - accuracy: 0.8051 - val_loss: 0.4047 - val_accuracy: 0.8269\n",
      "Epoch 4/100\n",
      "162/162 [==============================] - 1s 8ms/step - loss: 0.4103 - accuracy: 0.8120 - val_loss: 0.4033 - val_accuracy: 0.8235\n",
      "Epoch 5/100\n",
      "162/162 [==============================] - 1s 8ms/step - loss: 0.4053 - accuracy: 0.8142 - val_loss: 0.4081 - val_accuracy: 0.8153\n",
      "Epoch 6/100\n",
      "162/162 [==============================] - 1s 8ms/step - loss: 0.4030 - accuracy: 0.8113 - val_loss: 0.3977 - val_accuracy: 0.8235\n",
      "Epoch 7/100\n",
      "162/162 [==============================] - 1s 8ms/step - loss: 0.3965 - accuracy: 0.8148 - val_loss: 0.4004 - val_accuracy: 0.8293\n",
      "Epoch 8/100\n",
      "162/162 [==============================] - 1s 9ms/step - loss: 0.3947 - accuracy: 0.8163 - val_loss: 0.3981 - val_accuracy: 0.8188\n",
      "Epoch 9/100\n",
      "162/162 [==============================] - 1s 9ms/step - loss: 0.3885 - accuracy: 0.8146 - val_loss: 0.4069 - val_accuracy: 0.8200\n",
      "Epoch 10/100\n",
      "162/162 [==============================] - 1s 8ms/step - loss: 0.3853 - accuracy: 0.8229 - val_loss: 0.4064 - val_accuracy: 0.8200\n",
      "Epoch 11/100\n",
      "162/162 [==============================] - 1s 8ms/step - loss: 0.3816 - accuracy: 0.8209 - val_loss: 0.3946 - val_accuracy: 0.8223\n",
      "Epoch 12/100\n",
      "162/162 [==============================] - 1s 8ms/step - loss: 0.3764 - accuracy: 0.8223 - val_loss: 0.4092 - val_accuracy: 0.8118\n",
      "Epoch 13/100\n",
      "162/162 [==============================] - 1s 8ms/step - loss: 0.3717 - accuracy: 0.8268 - val_loss: 0.4082 - val_accuracy: 0.8142\n",
      "Epoch 14/100\n",
      "162/162 [==============================] - 1s 8ms/step - loss: 0.3707 - accuracy: 0.8295 - val_loss: 0.4080 - val_accuracy: 0.8118\n",
      "Epoch 15/100\n",
      "162/162 [==============================] - 1s 8ms/step - loss: 0.3650 - accuracy: 0.8295 - val_loss: 0.4092 - val_accuracy: 0.8095\n",
      "Epoch 16/100\n",
      "162/162 [==============================] - 1s 9ms/step - loss: 0.3604 - accuracy: 0.8355 - val_loss: 0.4049 - val_accuracy: 0.8165\n",
      "Epoch 17/100\n",
      "162/162 [==============================] - 1s 9ms/step - loss: 0.3563 - accuracy: 0.8287 - val_loss: 0.4116 - val_accuracy: 0.8084\n",
      "Epoch 18/100\n",
      "162/162 [==============================] - 1s 9ms/step - loss: 0.3533 - accuracy: 0.8341 - val_loss: 0.4050 - val_accuracy: 0.8153\n",
      "Epoch 19/100\n",
      "162/162 [==============================] - 1s 9ms/step - loss: 0.3485 - accuracy: 0.8388 - val_loss: 0.4371 - val_accuracy: 0.8107\n",
      "Epoch 20/100\n",
      "162/162 [==============================] - 1s 9ms/step - loss: 0.3449 - accuracy: 0.8401 - val_loss: 0.4202 - val_accuracy: 0.8142\n",
      "Epoch 21/100\n",
      "162/162 [==============================] - 1s 9ms/step - loss: 0.3397 - accuracy: 0.8448 - val_loss: 0.4209 - val_accuracy: 0.8130\n"
     ]
    },
    {
     "data": {
      "text/plain": [
       "<keras.callbacks.History at 0x2c9c238e0>"
      ]
     },
     "execution_count": 7,
     "metadata": {},
     "output_type": "execute_result"
    }
   ],
   "source": [
    "model.fit(X_train, y_train, epochs=100, callbacks=[tensorboard_cb, early_stopping_cb], validation_data=(X_val, y_val))"
   ]
  },
  {
   "cell_type": "code",
   "execution_count": 8,
   "metadata": {},
   "outputs": [
    {
     "data": {
      "text/html": [
       "\n",
       "      <iframe id=\"tensorboard-frame-8abc44524ca1c845\" width=\"100%\" height=\"800\" frameborder=\"0\">\n",
       "      </iframe>\n",
       "      <script>\n",
       "        (function() {\n",
       "          const frame = document.getElementById(\"tensorboard-frame-8abc44524ca1c845\");\n",
       "          const url = new URL(\"/\", window.location);\n",
       "          const port = 6006;\n",
       "          if (port) {\n",
       "            url.port = port;\n",
       "          }\n",
       "          frame.src = url;\n",
       "        })();\n",
       "      </script>\n",
       "    "
      ],
      "text/plain": [
       "<IPython.core.display.HTML object>"
      ]
     },
     "metadata": {},
     "output_type": "display_data"
    }
   ],
   "source": [
    "%tensorboard --logdir logs"
   ]
  },
  {
   "cell_type": "code",
   "execution_count": 9,
   "metadata": {},
   "outputs": [
    {
     "name": "stdout",
     "output_type": "stream",
     "text": [
      "24/32 [=====================>........] - ETA: 0s"
     ]
    },
    {
     "name": "stderr",
     "output_type": "stream",
     "text": [
      "2023-03-20 23:57:56.350153: I tensorflow/core/grappler/optimizers/custom_graph_optimizer_registry.cc:114] Plugin optimizer for device_type GPU is enabled.\n"
     ]
    },
    {
     "name": "stdout",
     "output_type": "stream",
     "text": [
      "32/32 [==============================] - 0s 8ms/step\n",
      "              precision    recall  f1-score   support\n",
      "\n",
      "       false       0.83      0.89      0.86       737\n",
      "        true       0.61      0.48      0.54       268\n",
      "\n",
      "    accuracy                           0.78      1005\n",
      "   macro avg       0.72      0.69      0.70      1005\n",
      "weighted avg       0.77      0.78      0.77      1005\n",
      "\n"
     ]
    },
    {
     "data": {
      "image/png": "[encoded data removed]",
      "text/plain": [
       "<Figure size 640x480 with 2 Axes>"
      ]
     },
     "metadata": {},
     "output_type": "display_data"
    }
   ],
   "source": [
    "y_test_pred = model.predict(X_test)>0.5\n",
    "print(classification_report(y_test,y_test_pred,target_names=['false','true']))\n",
    "ConfusionMatrixDisplay.from_predictions(y_test, y_test_pred, normalize='true')\n",
    "plt.show()"
   ]
  },
  {
   "attachments": {},
   "cell_type": "markdown",
   "metadata": {},
   "source": [
    "<img src=\"data/comp.png\"/>\n"
   ]
  }
 ],
 "metadata": {
  "kernelspec": {
   "display_name": "hml3",
   "language": "python",
   "name": "python3"
  },
  "language_info": {
   "codemirror_mode": {
    "name": "ipython",
    "version": 3
   },
   "file_extension": ".py",
   "mimetype": "text/x-python",
   "name": "python",
   "nbconvert_exporter": "python",
   "pygments_lexer": "ipython3",
   "version": "3.10.8"
  },
  "orig_nbformat": 4,
  "vscode": {
   "interpreter": {
    "hash": "ac2598a53cd48ed973662853cbed9ce85601c819c2e7e5e54efa32ca245c1cee"
   }
  }
 },
 "nbformat": 4,
 "nbformat_minor": 2
}
