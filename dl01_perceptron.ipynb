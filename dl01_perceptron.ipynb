{
 "cells": [
  {
   "attachments": {},
   "cell_type": "markdown",
   "metadata": {},
   "source": [
    "# Deep Learning\n",
    "<table align=\"left\">\n",
    "  <td>\n",
    "    <a href=\"https://colab.research.google.com/github/marcinsawinski/UEP_KIE_DL_PROG/blob/main/dl01_perceptron.ipynb\" target=\"_parent\"><img src=\"https://colab.research.google.com/assets/colab-badge.svg\" alt=\"Open In Colab\"/></a>\n",
    "  </td>\n",
    "</table>"
   ]
  },
  {
   "attachments": {},
   "cell_type": "markdown",
   "metadata": {},
   "source": [
    "# Excercise 1: Perceptron\n",
    "- define _step function_ that takes value (z) and returns \n",
    "Heaviside step function\\\n",
    "$\n",
    "Heaviside(z) =\n",
    "\\begin{cases}\n",
    "0\\ \\text{if}\\ z<0\\\\\n",
    "1\\ \\text{if}\\ z \\ge 0\n",
    "\\end{cases}\n",
    "$\n",
    "- define _Perceptron_ function that takes:\n",
    "    - data: numpy array of shape (m,n)\n",
    "    - labels: numpy array of shape (m,1)\n",
    "    - lr: learning rate ($\\eta$)\n",
    "    - e: number of epochs\n",
    "- add bias term (column with values equal to 1)\n",
    "- initialize weights with zeros\n",
    "- loop through epochs\n",
    "    - loop through instances\n",
    "        - compute output($\\hat{y}$) as $Heaviside(z)$, where $z = x^T w$\\\n",
    "        NOTE: rows of X contain transposed data so use np.dot(x[i], w)\n",
    "        - calculate new weights $w_{i,j}^{(next\\,step)} = w_{i,j}+\\eta(y_j-\\hat y_j)x_i$\n",
    "- return trained weights\n",
    "- draw decision boundary\n",
    "        \n",
    "\n"
   ]
  },
  {
   "cell_type": "code",
   "execution_count": null,
   "metadata": {},
   "outputs": [],
   "source": [
    "import matplotlib.pyplot as plt\n",
    "import numpy as np\n",
    "class_size = 50\n",
    "np.random.seed(42)\n",
    "# Generate data points\n",
    "X1 = np.random.normal(0,1,(class_size,2)).round(1)\n",
    "X2 = np.random.normal(0,1,(class_size,2)).round(1)+np.random.randint(-5,5, (1,2))\n",
    "X_train = np.concatenate((X1, X2))\n",
    "\n",
    "# Generate labels\n",
    "y_train = np.concatenate((np.zeros(class_size),np.ones(class_size)))\n",
    "\n",
    "#plot data points\n",
    "def plot_data(X,y):\n",
    "    # plt.scatter(X[:,0],X[:,1],c=y, alpha=0.6)\n",
    "    plt.plot(X[:,0][y==0],X[:,1][y==0], 'r.',alpha=0.5)\n",
    "    plt.plot(X[:,0][y==1],X[:,1][y==1], 'b.',alpha=0.5)\n",
    "\n",
    "# plot (dummy) decision boundary\n",
    "def plot_decision_boundary(X,w, a=1):\n",
    "    x1 = np.linspace(min(X[:,0]),max(X[:,0]),10)\n",
    "    m = -w[1]/w[2]\n",
    "    c = -w[0]/w[2]\n",
    "    x2 = m*x1+c\n",
    "    plt.plot(x1,x2, c='k', alpha=a)\n",
    "    plt.ylim(min(X[:,1]),max(X[:,1]))\n",
    "\n",
    "# Dummy weights\n",
    "w_dummy = [1,2,3]\n",
    "\n",
    "plot_data(X_train,y_train)\n",
    "plot_decision_boundary(X_train, w_dummy)\n"
   ]
  },
  {
   "cell_type": "code",
   "execution_count": null,
   "metadata": {},
   "outputs": [],
   "source": [
    "def step_function(z):\n",
    "    # your code here\n",
    "\n",
    "def perceptron(data, labels, lr, e):\n",
    "    \"\"\"\n",
    "    data: numpy array of shape (m,n)\n",
    "    labels: numpy array of shape (m,1)\n",
    "    lr: learning rate\n",
    "    e: number of epochs\n",
    "    \"\"\"\n",
    "    # your code here\n",
    "w = perceptron(X_train, y_train, 0.1, 10)"
   ]
  }
 ],
 "metadata": {
  "kernelspec": {
   "display_name": "hml3",
   "language": "python",
   "name": "python3"
  },
  "language_info": {
   "codemirror_mode": {
    "name": "ipython",
    "version": 3
   },
   "file_extension": ".py",
   "mimetype": "text/x-python",
   "name": "python",
   "nbconvert_exporter": "python",
   "pygments_lexer": "ipython3",
   "version": "3.9.13"
  },
  "orig_nbformat": 4,
  "vscode": {
   "interpreter": {
    "hash": "ac2598a53cd48ed973662853cbed9ce85601c819c2e7e5e54efa32ca245c1cee"
   }
  }
 },
 "nbformat": 4,
 "nbformat_minor": 2
}
